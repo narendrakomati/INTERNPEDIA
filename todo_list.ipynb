{
  "nbformat": 4,
  "nbformat_minor": 0,
  "metadata": {
    "colab": {
      "provenance": [],
      "authorship_tag": "ABX9TyPoe3GRxcsOCb2Wfz4V0/TO",
      "include_colab_link": true
    },
    "kernelspec": {
      "name": "python3",
      "display_name": "Python 3"
    },
    "language_info": {
      "name": "python"
    }
  },
  "cells": [
    {
      "cell_type": "markdown",
      "metadata": {
        "id": "view-in-github",
        "colab_type": "text"
      },
      "source": [
        "<a href=\"https://colab.research.google.com/github/narendrakomati/INTERNPEDIA/blob/main/todo_list.ipynb\" target=\"_parent\"><img src=\"https://colab.research.google.com/assets/colab-badge.svg\" alt=\"Open In Colab\"/></a>"
      ]
    },
    {
      "cell_type": "code",
      "execution_count": null,
      "metadata": {
        "id": "8ekednGp4QWg"
      },
      "outputs": [],
      "source": [
        "import json"
      ]
    },
    {
      "cell_type": "code",
      "source": [
        "# Function to load tasks from file\n",
        "def load_tasks(filename):\n",
        "    try:\n",
        "        with open(filename, 'r') as file:\n",
        "            return json.load(file)\n",
        "    except FileNotFoundError:\n",
        "        return []"
      ],
      "metadata": {
        "id": "MAYh1bw0XrTm"
      },
      "execution_count": null,
      "outputs": []
    },
    {
      "cell_type": "code",
      "source": [
        "# Function to save tasks to file\n",
        "def save_tasks(tasks, filename):\n",
        "    with open(filename, 'w') as file:\n",
        "        json.dump(tasks, file)"
      ],
      "metadata": {
        "id": "MdTlkjUSXyr5"
      },
      "execution_count": null,
      "outputs": []
    },
    {
      "cell_type": "code",
      "source": [
        "# Function to display menu\n",
        "def display_menu():\n",
        "    print(\"TO-DO LIST\")\n",
        "    print(\"1. View Tasks\")\n",
        "    print(\"2. Add Task\")\n",
        "    print(\"3. Mark Task as Done\")\n",
        "    print(\"4. Mark Task as Undone\")\n",
        "    print(\"5. Remove Task\")\n",
        "    print(\"6. Save and Quit\")"
      ],
      "metadata": {
        "id": "hOIntXXrX7vp"
      },
      "execution_count": null,
      "outputs": []
    },
    {
      "cell_type": "code",
      "source": [
        "# Function to view tasks\n",
        "def view_tasks(tasks):\n",
        "        print(\"No tasks found.\")"
      ],
      "metadata": {
        "id": "y7Kmh9m_X_T9"
      },
      "execution_count": null,
      "outputs": []
    },
    {
      "cell_type": "code",
      "source": [
        "# Function to view tasks\n",
        "def view_tasks(tasks):\n",
        "    print(\"YOUR TASKS\")\n",
        "    if tasks:\n",
        "        for index, task in enumerate(tasks, start=1):\n",
        "            status = \"[X]\" if task['done'] else \"[ ]\"\n",
        "            print(f\"{index}. {status} {task['task']}\")\n",
        "    else:\n",
        "        print(\"No tasks found.\")"
      ],
      "metadata": {
        "id": "MqwHzNCaYEco"
      },
      "execution_count": null,
      "outputs": []
    },
    {
      "cell_type": "code",
      "source": [
        "# Function to add a new task\n",
        "def add_task(tasks):\n",
        "    task = input(\"Enter the task: \")\n",
        "    tasks.append({\"task\": task, \"done\": False})\n",
        "    print(\"Task added successfully.\")"
      ],
      "metadata": {
        "id": "PDK-qjy4YHZg"
      },
      "execution_count": null,
      "outputs": []
    },
    {
      "cell_type": "code",
      "source": [
        "# Function to mark task as done or undone\n",
        "def mark_task(tasks, done=True):\n",
        "    view_tasks(tasks)\n",
        "    try:\n",
        "        index = int(input(\"Enter the task number: \")) - 1\n",
        "        tasks[index]['done'] = done\n",
        "        print(\"Task marked successfully.\")\n",
        "    except (ValueError, IndexError):\n",
        "        print(\"Invalid task number.\")\n"
      ],
      "metadata": {
        "id": "8wgXUdXJYKkv"
      },
      "execution_count": null,
      "outputs": []
    },
    {
      "cell_type": "code",
      "source": [
        "# Function to remove a task\n",
        "def remove_task(tasks):\n",
        "    view_tasks(tasks)\n",
        "    try:\n",
        "        index = int(input(\"Enter the task number to remove: \")) - 1\n",
        "        del tasks[index]\n",
        "        print(\"Task removed successfully.\")\n",
        "    except (ValueError, IndexError):\n",
        "        print(\"Invalid task number.\")\n"
      ],
      "metadata": {
        "id": "UKP7Iiy7YOZq"
      },
      "execution_count": null,
      "outputs": []
    },
    {
      "cell_type": "code",
      "source": [
        "# Main function\n",
        "def main():\n",
        "    filename = \"tasks.json\"\n",
        "    tasks = load_tasks(filename)\n",
        "\n",
        "    while True:\n",
        "        display_menu()\n",
        "        choice = input(\"Enter your choice: \")\n",
        "\n",
        "        if choice == '1':\n",
        "            view_tasks(tasks)\n",
        "        elif choice == '2':\n",
        "            add_task(tasks)\n",
        "        elif choice == '3':\n",
        "            mark_task(tasks)\n",
        "        elif choice == '4':\n",
        "            mark_task(tasks, done=False)\n",
        "        elif choice == '5':\n",
        "            remove_task(tasks)\n",
        "        elif choice == '6':\n",
        "            save_tasks(tasks, filename)\n",
        "            print(\"Tasks saved. Quitting.\")\n",
        "            break\n",
        "        else:\n",
        "            print(\"Invalid choice. Please choose again.\")"
      ],
      "metadata": {
        "id": "poRd0rOfYV40"
      },
      "execution_count": null,
      "outputs": []
    },
    {
      "cell_type": "code",
      "source": [
        "if __name__ == \"__main__\":\n",
        "    main()"
      ],
      "metadata": {
        "colab": {
          "base_uri": "https://localhost:8080/"
        },
        "id": "hbz-QT8xYZEF",
        "outputId": "f482b859-8679-4818-f833-df45340fe0c4"
      },
      "execution_count": null,
      "outputs": [
        {
          "output_type": "stream",
          "name": "stdout",
          "text": [
            "TO-DO LIST\n",
            "1. View Tasks\n",
            "2. Add Task\n",
            "3. Mark Task as Done\n",
            "4. Mark Task as Undone\n",
            "5. Remove Task\n",
            "6. Save and Quit\n",
            "Enter your choice: 1\n",
            "YOUR TASKS\n",
            "No tasks found.\n",
            "TO-DO LIST\n",
            "1. View Tasks\n",
            "2. Add Task\n",
            "3. Mark Task as Done\n",
            "4. Mark Task as Undone\n",
            "5. Remove Task\n",
            "6. Save and Quit\n",
            "Enter your choice: 2\n",
            "Enter the task: eat\n",
            "Task added successfully.\n",
            "TO-DO LIST\n",
            "1. View Tasks\n",
            "2. Add Task\n",
            "3. Mark Task as Done\n",
            "4. Mark Task as Undone\n",
            "5. Remove Task\n",
            "6. Save and Quit\n",
            "Enter your choice: 3\n",
            "YOUR TASKS\n",
            "1. [ ] eat\n",
            "Enter the task number: 1\n",
            "Task marked successfully.\n",
            "TO-DO LIST\n",
            "1. View Tasks\n",
            "2. Add Task\n",
            "3. Mark Task as Done\n",
            "4. Mark Task as Undone\n",
            "5. Remove Task\n",
            "6. Save and Quit\n",
            "Enter your choice: 1\n",
            "YOUR TASKS\n",
            "1. [X] eat\n",
            "TO-DO LIST\n",
            "1. View Tasks\n",
            "2. Add Task\n",
            "3. Mark Task as Done\n",
            "4. Mark Task as Undone\n",
            "5. Remove Task\n",
            "6. Save and Quit\n",
            "Enter your choice: 4\n",
            "YOUR TASKS\n",
            "1. [X] eat\n",
            "Enter the task number: 1\n",
            "Task marked successfully.\n",
            "TO-DO LIST\n",
            "1. View Tasks\n",
            "2. Add Task\n",
            "3. Mark Task as Done\n",
            "4. Mark Task as Undone\n",
            "5. Remove Task\n",
            "6. Save and Quit\n",
            "Enter your choice: 1\n",
            "YOUR TASKS\n",
            "1. [ ] eat\n",
            "TO-DO LIST\n",
            "1. View Tasks\n",
            "2. Add Task\n",
            "3. Mark Task as Done\n",
            "4. Mark Task as Undone\n",
            "5. Remove Task\n",
            "6. Save and Quit\n",
            "Enter your choice: 6\n",
            "Tasks saved. Quitting.\n"
          ]
        }
      ]
    },
    {
      "cell_type": "code",
      "source": [],
      "metadata": {
        "id": "I4DeHHU_Ycjo"
      },
      "execution_count": null,
      "outputs": []
    }
  ]
}